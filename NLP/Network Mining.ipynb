{
 "cells": [
  {
   "cell_type": "code",
   "execution_count": 2,
   "metadata": {},
   "outputs": [],
   "source": [
    "import numpy as np\n",
    "import pandas as pd\n",
    "import scipy\n",
    "import sklearn\n",
    "import matplotlib.pyplot as plt\n",
    "import seaborn as sns\n",
    "\n",
    "from sklearn.naive_bayes import BernoulliNB\n",
    "from sklearn.model_selection import train_test_split\n",
    "\n",
    "import networkx as nx\n",
    "\n",
    "%matplotlib inline"
   ]
  },
  {
   "cell_type": "code",
   "execution_count": 8,
   "metadata": {},
   "outputs": [],
   "source": [
    "G = nx.DiGraph()"
   ]
  },
  {
   "cell_type": "code",
   "execution_count": 10,
   "metadata": {},
   "outputs": [
    {
     "data": {
      "image/png": "[encoded data removed]",
      "text/plain": [
       "<Figure size 432x288 with 1 Axes>"
      ]
     },
     "metadata": {},
     "output_type": "display_data"
    }
   ],
   "source": [
    "#Adding nodes.  We could have added them all in one list using .add_nodes_from()\n",
    "G.add_node('You')\n",
    "G.add_node('Mom')\n",
    "G.add_node('Alice')\n",
    "G.add_node('Fiancee')\n",
    "\n",
    "#Adding edges.  You can also add them individually using .add_edge() \n",
    "G.add_edges_from([('You','Mom'),('You','Fiancee')])\n",
    "G.add_edges_from([('Mom','You'),('Mom','Alice')])\n",
    "G.add_edges_from([('Alice','Mom'),('Alice','You'), ('You', 'Alice')])\n",
    "\n",
    "\n",
    "#Drawing the graph\n",
    "nx.draw_networkx(G,\n",
    "                 pos=nx.spring_layout(G), # Positions the nodes relative to each other\n",
    "                 node_size=1600, \n",
    "                 cmap=plt.cm.Blues, # The color palette to use to color the nodes.\n",
    "                 node_color=range(len(G)) #The number of shades of color to use.\n",
    "                 )\n",
    "plt.axis(\"off\")\n",
    "plt.show()"
   ]
  },
  {
   "cell_type": "code",
   "execution_count": 11,
   "metadata": {},
   "outputs": [
    {
     "data": {
      "text/plain": [
       "DiDegreeView({'You': 5, 'Mom': 4, 'Alice': 4, 'Fiancee': 1})"
      ]
     },
     "execution_count": 11,
     "metadata": {},
     "output_type": "execute_result"
    }
   ],
   "source": [
    "G.degree()"
   ]
  },
  {
   "cell_type": "code",
   "execution_count": 14,
   "metadata": {},
   "outputs": [
    {
     "data": {
      "text/plain": [
       "(4, 7)"
      ]
     },
     "execution_count": 14,
     "metadata": {},
     "output_type": "execute_result"
    }
   ],
   "source": [
    "G.number_of_nodes(), G.number_of_edges()"
   ]
  },
  {
   "cell_type": "code",
   "execution_count": 15,
   "metadata": {},
   "outputs": [
    {
     "data": {
      "text/plain": [
       "OutEdgeView([('You', 'Mom'), ('You', 'Fiancee'), ('You', 'Alice'), ('Mom', 'You'), ('Mom', 'Alice'), ('Alice', 'Mom'), ('Alice', 'You')])"
      ]
     },
     "execution_count": 15,
     "metadata": {},
     "output_type": "execute_result"
    }
   ],
   "source": [
    "G.edges()"
   ]
  },
  {
   "cell_type": "code",
   "execution_count": 16,
   "metadata": {},
   "outputs": [
    {
     "data": {
      "text/plain": [
       "{'You': 0.3333333333333333, 'Mom': 0.0, 'Alice': 0.0, 'Fiancee': 0.0}"
      ]
     },
     "execution_count": 16,
     "metadata": {},
     "output_type": "execute_result"
    }
   ],
   "source": [
    "nx.betweenness_centrality(G)"
   ]
  },
  {
   "cell_type": "code",
   "execution_count": 34,
   "metadata": {},
   "outputs": [
    {
     "name": "stdout",
     "output_type": "stream",
     "text": [
      "Simple paths: {'You': {'Mom': 2, 'Alice': 2, 'Fiancee': 1}, 'Mom': {'You': 2, 'Alice': 2, 'Fiancee': 1}, 'Alice': {'You': 2, 'Mom': 2, 'Fiancee': 1}, 'Fiancee': {'You': 0, 'Mom': 0, 'Alice': 0}} \n",
      "\n"
     ]
    }
   ],
   "source": [
    "print(\"Simple paths:\",nx.all_pairs_node_connectivity(G),'\\n')"
   ]
  },
  {
   "cell_type": "code",
   "execution_count": 36,
   "metadata": {},
   "outputs": [
    {
     "name": "stdout",
     "output_type": "stream",
     "text": [
      "('You', {'You': ['You'], 'Mom': ['You', 'Mom'], 'Fiancee': ['You', 'Fiancee'], 'Alice': ['You', 'Alice']})\n",
      "('Mom', {'Mom': ['Mom'], 'You': ['Mom', 'You'], 'Alice': ['Mom', 'Alice'], 'Fiancee': ['Mom', 'You', 'Fiancee']})\n",
      "('Alice', {'Alice': ['Alice'], 'Mom': ['Alice', 'Mom'], 'You': ['Alice', 'You'], 'Fiancee': ['Alice', 'You', 'Fiancee']})\n",
      "('Fiancee', {'Fiancee': ['Fiancee']})\n"
     ]
    }
   ],
   "source": [
    "for p in nx.all_pairs_shortest_path(G):\n",
    "    print(p)"
   ]
  },
  {
   "cell_type": "code",
   "execution_count": null,
   "metadata": {},
   "outputs": [],
   "source": []
  },
  {
   "cell_type": "code",
   "execution_count": null,
   "metadata": {},
   "outputs": [],
   "source": []
  }
 ],
 "metadata": {
  "kernelspec": {
   "display_name": "Python 3",
   "language": "python",
   "name": "python3"
  },
  "language_info": {
   "codemirror_mode": {
    "name": "ipython",
    "version": 3
   },
   "file_extension": ".py",
   "mimetype": "text/x-python",
   "name": "python",
   "nbconvert_exporter": "python",
   "pygments_lexer": "ipython3",
   "version": "3.7.4"
  }
 },
 "nbformat": 4,
 "nbformat_minor": 2
}
