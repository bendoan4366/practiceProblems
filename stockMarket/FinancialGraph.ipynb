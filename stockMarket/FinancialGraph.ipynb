{
 "cells": [
  {
   "cell_type": "code",
   "execution_count": 26,
   "metadata": {},
   "outputs": [],
   "source": [
    "import pandas as pd\n",
    "import bokeh as bk\n",
    "from bokeh.plotting import figure, show, output_file\n",
    "from bokeh.models.annotations import Title\n",
    "\n",
    "from pandas_datareader import data, wb\n",
    "import datetime"
   ]
  },
  {
   "cell_type": "code",
   "execution_count": 30,
   "metadata": {},
   "outputs": [],
   "source": [
    "start = datetime.datetime(2018, 1, 1)\n",
    "end = datetime.datetime(2020, 1, 1)\n",
    "\n",
    "\n",
    "df = data.DataReader(name = \"AAPL\", data_source=\"yahoo\", start=start, end=end)"
   ]
  },
  {
   "cell_type": "code",
   "execution_count": 31,
   "metadata": {},
   "outputs": [],
   "source": [
    "def up_down(close_price, open_price):    \n",
    "    if close_price > open_price:\n",
    "        value = \"Up\"\n",
    "    elif close_price < open_price:\n",
    "        value = \"Down\"\n",
    "    else:\n",
    "        value = \"Even\"\n",
    "    \n",
    "    return value\n",
    "\n",
    "df[\"Status\"] = [up_down(close_price, open_price) for close_price, open_price in zip(df.Close, df.Open)]\n",
    "df[\"Average\"] = (df.Open + df.Close)/2\n",
    "df[\"Height\"] = df.Close - df.Open\n",
    "\n",
    "hours = 12*60*60*1000"
   ]
  },
  {
   "cell_type": "code",
   "execution_count": 36,
   "metadata": {},
   "outputs": [],
   "source": [
    "p = figure(x_axis_type = \"datetime\", width = 1000, height= 400, sizing_mode = \"stretch_both\", tools = \"box_zoom, wheel_zoom\")\n",
    "\n",
    "title = Title()\n",
    "title.text = \"AAPL Over Time\"\n",
    "p.title = title\n",
    "\n",
    "p.segment(df.index, df.High, df.index, df.Low, color = \"black\")\n",
    "\n",
    "p.rect(df.index[df.Status == \"Up\"], df.Average[df.Status == \"Up\"], hours, df.Height[df.Status == \"Up\"], fill_color=\"green\", line_color=\"black\")\n",
    "p.rect(df.index[df.Status == \"Down\"], df.Average[df.Status ==\"Down\"], hours, df.Height[df.Status == \"Down\"], fill_color=\"red\", line_color=\"black\")\n",
    "\n",
    "\n",
    "output_file(\"Test.html\")\n",
    "show(p)"
   ]
  },
  {
   "cell_type": "code",
   "execution_count": null,
   "metadata": {},
   "outputs": [],
   "source": []
  }
 ],
 "metadata": {
  "kernelspec": {
   "display_name": "Python 3",
   "language": "python",
   "name": "python3"
  },
  "language_info": {
   "codemirror_mode": {
    "name": "ipython",
    "version": 3
   },
   "file_extension": ".py",
   "mimetype": "text/x-python",
   "name": "python",
   "nbconvert_exporter": "python",
   "pygments_lexer": "ipython3",
   "version": "3.7.4"
  }
 },
 "nbformat": 4,
 "nbformat_minor": 2
}
