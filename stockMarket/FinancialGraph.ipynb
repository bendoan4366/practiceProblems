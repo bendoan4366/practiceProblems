{
 "cells": [
  {
   "cell_type": "code",
   "execution_count": 16,
   "metadata": {},
   "outputs": [],
   "source": [
    "import pandas as pd\n",
    "import bokeh as bk\n",
    "from bokeh.plotting import figure, show, output_file\n",
    "from bokeh.models.annotations import Title\n",
    "\n",
    "from pandas_datareader import data, wb\n",
    "import datetime"
   ]
  },
  {
   "cell_type": "code",
   "execution_count": 26,
   "metadata": {},
   "outputs": [],
   "source": [
    "start = datetime.datetime(2019, 12, 14)\n",
    "end = datetime.datetime(2020, 1, 1)\n",
    "\n",
    "\n",
    "df = data.DataReader(name = \"AAPL\", data_source=\"yahoo\", start=start, end=end)"
   ]
  },
  {
   "cell_type": "code",
   "execution_count": 27,
   "metadata": {},
   "outputs": [
    {
     "data": {
      "text/plain": [
       "DatetimeIndex(['2019-12-16', '2019-12-17', '2019-12-19', '2019-12-23',\n",
       "               '2019-12-26', '2019-12-30', '2019-12-31', '2020-01-02'],\n",
       "              dtype='datetime64[ns]', name='Date', freq=None)"
      ]
     },
     "execution_count": 27,
     "metadata": {},
     "output_type": "execute_result"
    }
   ],
   "source": [
    "df.index[df.Close > df.Open]"
   ]
  },
  {
   "cell_type": "code",
   "execution_count": 28,
   "metadata": {},
   "outputs": [
    {
     "name": "stderr",
     "output_type": "stream",
     "text": [
      "BokehUserWarning: ColumnDataSource's columns must be of the same length. Current lengths: ('x', 8), ('y', 12)\n",
      "BokehUserWarning: ColumnDataSource's columns must be of the same length. Current lengths: ('height', 12), ('x', 8), ('y', 12)\n"
     ]
    }
   ],
   "source": [
    "p = figure(x_axis_type = \"datetime\", width = 1000, height= 400)\n",
    "\n",
    "title = Title()\n",
    "title.text = \"AAPL Over Time\"\n",
    "p.title = title\n",
    "\n",
    "hours = 12*60*60*1000\n",
    "\n",
    "p.rect(df.index[df.Close > df.Open], (df.Open + df.Close)/2, hours, abs(df.Open-df.Close))\n",
    "\n",
    "output_file(\"Test.html\")\n",
    "show(p)"
   ]
  },
  {
   "cell_type": "code",
   "execution_count": null,
   "metadata": {},
   "outputs": [],
   "source": []
  }
 ],
 "metadata": {
  "kernelspec": {
   "display_name": "Python 3",
   "language": "python",
   "name": "python3"
  },
  "language_info": {
   "codemirror_mode": {
    "name": "ipython",
    "version": 3
   },
   "file_extension": ".py",
   "mimetype": "text/x-python",
   "name": "python",
   "nbconvert_exporter": "python",
   "pygments_lexer": "ipython3",
   "version": "3.7.4"
  }
 },
 "nbformat": 4,
 "nbformat_minor": 2
}
