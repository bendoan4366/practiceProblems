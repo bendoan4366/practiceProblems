{
 "cells": [
  {
   "cell_type": "code",
   "execution_count": null,
   "metadata": {},
   "outputs": [],
   "source": [
    "import pandas as pd\n",
    "import seaborn as sns\n",
    "import numpy as np\n",
    "import matplotlib.pyplot as plt\n",
    "from sklearn.cluster import KMeans\n",
    "from sklearn.metrics import silhouette_score\n",
    "from sklearn.linear_model import LinearRegression, LogisticRegression \n",
    "\n",
    "from sklearn.svm import SVC, SVR\n",
    "\n",
    "from sklearn.neighbors import KNeighborsClassifier , KNeighborsRegressor\n",
    "from sklearn.model_selection import train_test_split\n",
    "from sklearn.metrics import plot_confusion_matrix"
   ]
  },
  {
   "cell_type": "code",
   "execution_count": null,
   "metadata": {},
   "outputs": [],
   "source": [
    "homevalues = pd.read_csv(\"datafiles/single_family_home_values.csv\")\n",
    "homevalues.dropna(inplace = True)"
   ]
  },
  {
   "cell_type": "code",
   "execution_count": null,
   "metadata": {},
   "outputs": [],
   "source": [
    "homevalues[\"lastSaleDate\"] = pd.to_datetime(homevalues[\"lastSaleDate\"])\n",
    "homevalues[\"priorSaleDate\"] = pd.to_datetime(homevalues[\"priorSaleDate\"])\n",
    "homevalues.dropna(inplace = True)"
   ]
  },
  {
   "cell_type": "code",
   "execution_count": null,
   "metadata": {},
   "outputs": [],
   "source": [
    "#upperOutlierCutoff = homevalues[\"estimated_value\"].quantile(0.90)\n",
    "\n",
    "#homevalues = homevalues[homevalues[\"estimated_value\"] <= upperOutlierCutoff]\n",
    "#homevalues = homevalues[homevalues[\"lastSaleAmount\"] <= upperOutlierCutoff]\n",
    "homevalues.shape\n",
    "sns.boxplot(homevalues.estimated_value)"
   ]
  },
  {
   "cell_type": "code",
   "execution_count": null,
   "metadata": {
    "scrolled": false
   },
   "outputs": [],
   "source": [
    "hvcorr = homevalues.corr()\n",
    "sns.heatmap(hvcorr, cmap=\"RdBu_r\")"
   ]
  },
  {
   "cell_type": "code",
   "execution_count": null,
   "metadata": {},
   "outputs": [],
   "source": [
    "X = homevalues[[\"bedrooms\",\"bathrooms\",\"rooms\",\"squareFootage\",\"lotSize\", \"yearBuilt\", \"priorSaleAmount\"]]"
   ]
  },
  {
   "cell_type": "code",
   "execution_count": null,
   "metadata": {},
   "outputs": [],
   "source": [
    "X_columns = X.columns"
   ]
  },
  {
   "cell_type": "code",
   "execution_count": null,
   "metadata": {},
   "outputs": [],
   "source": [
    "for column in X_columns:\n",
    "    print(\"========\")\n",
    "    print(column)\n",
    "    X.loc[:, column].hist()\n",
    "    print(\"mean: \" + str(X.loc[:, column].mean()))\n",
    "    print(\"stddev: \" + str(X.loc[:, column].std()))     "
   ]
  },
  {
   "cell_type": "code",
   "execution_count": null,
   "metadata": {},
   "outputs": [],
   "source": []
  },
  {
   "cell_type": "code",
   "execution_count": null,
   "metadata": {},
   "outputs": [],
   "source": []
  },
  {
   "cell_type": "code",
   "execution_count": null,
   "metadata": {},
   "outputs": [],
   "source": []
  },
  {
   "cell_type": "code",
   "execution_count": null,
   "metadata": {},
   "outputs": [],
   "source": []
  }
 ],
 "metadata": {
  "kernelspec": {
   "display_name": "Python 3",
   "language": "python",
   "name": "python3"
  },
  "language_info": {
   "codemirror_mode": {
    "name": "ipython",
    "version": 3
   },
   "file_extension": ".py",
   "mimetype": "text/x-python",
   "name": "python",
   "nbconvert_exporter": "python",
   "pygments_lexer": "ipython3",
   "version": "3.7.4"
  }
 },
 "nbformat": 4,
 "nbformat_minor": 2
}
