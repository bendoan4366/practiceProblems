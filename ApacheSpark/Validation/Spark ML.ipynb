{
 "cells": [
  {
   "cell_type": "code",
   "execution_count": 3,
   "metadata": {},
   "outputs": [],
   "source": [
    "import findspark\n",
    "findspark.init()\n",
    "\n",
    "import pyspark as ps\n",
    "from pyspark.sql import SparkSession\n",
    "from pyspark import SQLContext"
   ]
  },
  {
   "cell_type": "code",
   "execution_count": 2,
   "metadata": {},
   "outputs": [],
   "source": [
    "spark = ps.sql.SparkSession.builder.master(\"local[4]\").appName(\"spark-ML\").getOrCreate()\n",
    "\n",
    "sc = spark.sparkContext"
   ]
  },
  {
   "cell_type": "code",
   "execution_count": 6,
   "metadata": {},
   "outputs": [],
   "source": [
    "sqlContext = SQLContext(sc)"
   ]
  },
  {
   "cell_type": "code",
   "execution_count": 7,
   "metadata": {},
   "outputs": [
    {
     "name": "stdout",
     "output_type": "stream",
     "text": [
      "+----------+----------+----------+----------+----------+----------+--------+\n",
      "|      Date|      Open|      High|       Low|     Close| Adj Close|  Volume|\n",
      "+----------+----------+----------+----------+----------+----------+--------+\n",
      "|2018-05-09|186.550003|187.399994|185.220001|187.360001|186.640305|23211200|\n",
      "|2018-05-10|187.740005|190.369995|187.649994|190.039993|189.309998|27989300|\n",
      "|2018-05-11|189.490005|190.059998|187.449997|188.589996|188.589996|26212200|\n",
      "|2018-05-14|189.009995|189.529999|187.860001|188.149994|188.149994|20778800|\n",
      "|2018-05-15|186.779999|187.070007|185.100006|186.440002|186.440002|23695200|\n",
      "+----------+----------+----------+----------+----------+----------+--------+\n",
      "only showing top 5 rows\n",
      "\n"
     ]
    }
   ],
   "source": [
    "df_aapl = sqlContext.read.csv('data/aapl.csv',\n",
    "                         header=True,       # use headers or not\n",
    "                         quote='\"',         # char for quotes\n",
    "                         sep=\",\",           # char for separation\n",
    "                         inferSchema=True)  # do we infer schema or not ?\n",
    "\n",
    "df_aapl.show(5) #df.head(2)"
   ]
  },
  {
   "cell_type": "code",
   "execution_count": 9,
   "metadata": {},
   "outputs": [
    {
     "data": {
      "text/plain": [
       "StructType(List(StructField(Date,StringType,true),StructField(Open,DoubleType,true),StructField(High,DoubleType,true),StructField(Low,DoubleType,true),StructField(Close,DoubleType,true),StructField(Adj Close,DoubleType,true),StructField(Volume,IntegerType,true)))"
      ]
     },
     "execution_count": 9,
     "metadata": {},
     "output_type": "execute_result"
    }
   ],
   "source": [
    "df_aapl.schema"
   ]
  },
  {
   "cell_type": "code",
   "execution_count": 11,
   "metadata": {},
   "outputs": [
    {
     "name": "stdout",
     "output_type": "stream",
     "text": [
      "+----------+----------+\n",
      "|      Date|     Close|\n",
      "+----------+----------+\n",
      "|2018-06-06|193.979996|\n",
      "|2018-06-07|193.460007|\n",
      "|2018-06-05|193.309998|\n",
      "|2018-06-04|191.830002|\n",
      "|2018-06-08|191.699997|\n",
      "+----------+----------+\n",
      "only showing top 5 rows\n",
      "\n"
     ]
    }
   ],
   "source": [
    "df_sorted = df_aapl.select(\"Date\", \"Close\").orderBy(\"Close\", ascending = False)\n",
    "df_sorted.show(5)"
   ]
  },
  {
   "cell_type": "code",
   "execution_count": 14,
   "metadata": {},
   "outputs": [],
   "source": [
    "from pyspark.ml.feature import MinMaxScaler, VectorAssembler"
   ]
  },
  {
   "cell_type": "code",
   "execution_count": 16,
   "metadata": {},
   "outputs": [
    {
     "name": "stdout",
     "output_type": "stream",
     "text": [
      "+----------+----------+----------+----------+----------+----------+--------+\n",
      "|      Date|      Open|      High|       Low|     Close| Adj Close|  Volume|\n",
      "+----------+----------+----------+----------+----------+----------+--------+\n",
      "|2018-05-09|186.550003|187.399994|185.220001|187.360001|186.640305|23211200|\n",
      "|2018-05-10|187.740005|190.369995|187.649994|190.039993|189.309998|27989300|\n",
      "|2018-05-11|189.490005|190.059998|187.449997|188.589996|188.589996|26212200|\n",
      "|2018-05-14|189.009995|189.529999|187.860001|188.149994|188.149994|20778800|\n",
      "|2018-05-15|186.779999|187.070007|185.100006|186.440002|186.440002|23695200|\n",
      "+----------+----------+----------+----------+----------+----------+--------+\n",
      "only showing top 5 rows\n",
      "\n",
      "+----------+----------+----------+----------+----------+----------+--------+------------+\n",
      "|      Date|      Open|      High|       Low|     Close| Adj Close|  Volume|    Features|\n",
      "+----------+----------+----------+----------+----------+----------+--------+------------+\n",
      "|2018-05-09|186.550003|187.399994|185.220001|187.360001|186.640305|23211200|[187.360001]|\n",
      "|2018-05-10|187.740005|190.369995|187.649994|190.039993|189.309998|27989300|[190.039993]|\n",
      "|2018-05-11|189.490005|190.059998|187.449997|188.589996|188.589996|26212200|[188.589996]|\n",
      "|2018-05-14|189.009995|189.529999|187.860001|188.149994|188.149994|20778800|[188.149994]|\n",
      "|2018-05-15|186.779999|187.070007|185.100006|186.440002|186.440002|23695200|[186.440002]|\n",
      "+----------+----------+----------+----------+----------+----------+--------+------------+\n",
      "only showing top 5 rows\n",
      "\n"
     ]
    }
   ],
   "source": [
    "vectorAssembler = VectorAssembler(inputCols=[\"Close\"], outputCol=\"Features\")\n",
    "df_vector = vectorAssembler.transform(df_aapl)\n",
    "df_aapl.show(5)\n",
    "\n",
    "df_vector.show(5)"
   ]
  },
  {
   "cell_type": "code",
   "execution_count": 19,
   "metadata": {},
   "outputs": [
    {
     "name": "stdout",
     "output_type": "stream",
     "text": [
      "+----------+----------+----------+----------+----------+----------+--------+------------+--------------------+\n",
      "|      Date|      Open|      High|       Low|     Close| Adj Close|  Volume|    Features|     Scaled Features|\n",
      "+----------+----------+----------+----------+----------+----------+--------+------------+--------------------+\n",
      "|2018-05-09|186.550003|187.399994|185.220001|187.360001|186.640305|23211200|[187.360001]|[0.13689742813492...|\n",
      "|2018-05-10|187.740005|190.369995|187.649994|190.039993|189.309998|27989300|[190.039993]|[0.48630977478742...|\n",
      "|2018-05-11|189.490005|190.059998|187.449997|188.589996|188.589996|26212200|[188.589996]|[0.2972618767306078]|\n",
      "|2018-05-14|189.009995|189.529999|187.860001|188.149994|188.149994|20778800|[188.149994]|[0.23989523856459...|\n",
      "|2018-05-15|186.779999|187.070007|185.100006|186.440002|186.440002|23695200|[186.440002]|[0.01694967847449...|\n",
      "+----------+----------+----------+----------+----------+----------+--------+------------+--------------------+\n",
      "only showing top 5 rows\n",
      "\n"
     ]
    }
   ],
   "source": [
    "scaler = MinMaxScaler(inputCol = \"Features\", outputCol = \"Scaled Features\")\n",
    "\n",
    "scaler_model = scaler.fit(df_vector)\n",
    "scaled_data = scaler_model.transform(df_vector)\n",
    "scaled_data.show(5)"
   ]
  },
  {
   "cell_type": "code",
   "execution_count": 21,
   "metadata": {},
   "outputs": [
    {
     "name": "stdout",
     "output_type": "stream",
     "text": [
      "+------------+--------------------+\n",
      "|    Features|     Scaled Features|\n",
      "+------------+--------------------+\n",
      "|[187.360001]|[0.13689742813492...|\n",
      "|[190.039993]|[0.48630977478742...|\n",
      "|[188.589996]|[0.2972618767306078]|\n",
      "|[188.149994]|[0.23989523856459...|\n",
      "|[186.440002]|[0.01694967847449...|\n",
      "+------------+--------------------+\n",
      "only showing top 5 rows\n",
      "\n"
     ]
    }
   ],
   "source": [
    "scaled_data.select(\"Features\", \"Scaled Features\").show(5)"
   ]
  },
  {
   "cell_type": "code",
   "execution_count": 22,
   "metadata": {},
   "outputs": [],
   "source": [
    "from pyspark.ml import Pipeline\n",
    "from pyspark.ml.classification import LogisticRegression\n",
    "from pyspark.ml.feature import RegexTokenizer, HashingTF\n",
    "\n",
    "# Prepare training documents from a list of (id, text, label) tuples.\n",
    "training = spark.createDataFrame([\n",
    "    (0, \"spark is like hadoop mapreduce\", 1.0),\n",
    "    (1, \"sparks light fire!!!\", 0.0),\n",
    "    (2, \"elephants like simba\", 0.0),\n",
    "    (3, \"hadoop is an elephant\", 1.0),\n",
    "    (4, \"hadoop mapreduce\", 1.0)\n",
    "], [\"id\", \"text\", \"label\"])"
   ]
  },
  {
   "cell_type": "code",
   "execution_count": 26,
   "metadata": {},
   "outputs": [],
   "source": [
    "regexTokenizer = RegexTokenizer(inputCol=\"text\", outputCol=\"tokens\", pattern=\"\\\\W\")\n",
    "hashingTF = HashingTF(inputCol=\"tokens\", outputCol=\"features\")\n",
    "tokens = regexTokenizer.transform(training)\n",
    "hashes = hashingTF.transform(tokens)"
   ]
  },
  {
   "cell_type": "code",
   "execution_count": 27,
   "metadata": {},
   "outputs": [
    {
     "name": "stdout",
     "output_type": "stream",
     "text": [
      "+---+--------------------+-----+--------------------+\n",
      "| id|                text|label|              tokens|\n",
      "+---+--------------------+-----+--------------------+\n",
      "|  0|spark is like had...|  1.0|[spark, is, like,...|\n",
      "|  1|sparks light fire!!!|  0.0|[sparks, light, f...|\n",
      "|  2|elephants like simba|  0.0|[elephants, like,...|\n",
      "|  3|hadoop is an elep...|  1.0|[hadoop, is, an, ...|\n",
      "|  4|    hadoop mapreduce|  1.0| [hadoop, mapreduce]|\n",
      "+---+--------------------+-----+--------------------+\n",
      "\n",
      "+---+--------------------+-----+--------------------+--------------------+\n",
      "| id|                text|label|              tokens|            features|\n",
      "+---+--------------------+-----+--------------------+--------------------+\n",
      "|  0|spark is like had...|  1.0|[spark, is, like,...|(262144,[106841,1...|\n",
      "|  1|sparks light fire!!!|  0.0|[sparks, light, f...|(262144,[91799,10...|\n",
      "|  2|elephants like simba|  0.0|[elephants, like,...|(262144,[53025,17...|\n",
      "|  3|hadoop is an elep...|  1.0|[hadoop, is, an, ...|(262144,[106841,1...|\n",
      "|  4|    hadoop mapreduce|  1.0| [hadoop, mapreduce]|(262144,[132966,1...|\n",
      "+---+--------------------+-----+--------------------+--------------------+\n",
      "\n"
     ]
    }
   ],
   "source": [
    "tokens.show(5)\n",
    "hashes.show(5)"
   ]
  },
  {
   "cell_type": "code",
   "execution_count": 29,
   "metadata": {},
   "outputs": [],
   "source": [
    "lr = LogisticRegression(maxIter=10, regParam=0.001)\n",
    "\n",
    "logistic_model = lr.fit(hashes) # Uses columns named features/label by default"
   ]
  },
  {
   "cell_type": "code",
   "execution_count": 30,
   "metadata": {},
   "outputs": [
    {
     "name": "stdout",
     "output_type": "stream",
     "text": [
      "+------------------+----------+--------------------+\n",
      "|              text|prediction|         probability|\n",
      "+------------------+----------+--------------------+\n",
      "| simba has a spark|       0.0|[0.78779795057740...|\n",
      "|            hadoop|       1.0|[0.02996000405249...|\n",
      "|mapreduce in spark|       1.0|[0.02396543994089...|\n",
      "|     apache hadoop|       1.0|[0.02996000405249...|\n",
      "+------------------+----------+--------------------+\n",
      "\n"
     ]
    }
   ],
   "source": [
    "test = spark.createDataFrame([\n",
    "    (5, \"simba has a spark\"),\n",
    "    (6, \"hadoop\"),\n",
    "    (7, \"mapreduce in spark\"),\n",
    "    (8, \"apache hadoop\")\n",
    "], [\"id\", \"text\"])\n",
    "\n",
    "# What do we need to do to this to get a prediction?\n",
    "preds = logistic_model.transform(hashingTF.transform(regexTokenizer.transform(test)))\n",
    "preds.select('text', 'prediction', 'probability').show()"
   ]
  },
  {
   "cell_type": "code",
   "execution_count": null,
   "metadata": {},
   "outputs": [],
   "source": []
  }
 ],
 "metadata": {
  "kernelspec": {
   "display_name": "Python 3",
   "language": "python",
   "name": "python3"
  },
  "language_info": {
   "codemirror_mode": {
    "name": "ipython",
    "version": 3
   },
   "file_extension": ".py",
   "mimetype": "text/x-python",
   "name": "python",
   "nbconvert_exporter": "python",
   "pygments_lexer": "ipython3",
   "version": "3.7.4"
  }
 },
 "nbformat": 4,
 "nbformat_minor": 2
}
