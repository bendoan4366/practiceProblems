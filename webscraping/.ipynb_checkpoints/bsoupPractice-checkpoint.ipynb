{
 "cells": [
  {
   "cell_type": "code",
   "execution_count": 107,
   "metadata": {},
   "outputs": [],
   "source": [
    "import requests\n",
    "import re\n",
    "from bs4 import BeautifulSoup\n",
    "import pandas as pd\n",
    "\n",
    "r = requests.get(\"https://www.century21.com/real-estate/washington-dc/LCDCWASHINGTON/\") \n",
    "\n",
    "request_content = r.content\n",
    "soup = BeautifulSoup(request_content, \"html.parser\")"
   ]
  },
  {
   "cell_type": "code",
   "execution_count": 47,
   "metadata": {
    "scrolled": true
   },
   "outputs": [],
   "source": [
    "all_properties = soup.find_all(\"div\", {\"class\": re.compile(\"infinite-item property-card*\")})"
   ]
  },
  {
   "cell_type": "code",
   "execution_count": 46,
   "metadata": {},
   "outputs": [
    {
     "data": {
      "text/plain": [
       "'$799,999'"
      ]
     },
     "execution_count": 46,
     "metadata": {},
     "output_type": "execute_result"
    }
   ],
   "source": [
    "all_properties[0].find(\"a\", {\"class\":\"listing-price\"}).text.replace(\"\\n\",\"\").strip()"
   ]
  },
  {
   "cell_type": "code",
   "execution_count": 100,
   "metadata": {},
   "outputs": [],
   "source": [
    "properties_list = []\n",
    "\n",
    "for prop in all_properties:\n",
    "    d = {}\n",
    "    d[\"Price\"] = prop.find(\"a\", {\"class\":\"listing-price\"}).text.replace(\"\\n\",\"\").strip()\n",
    "    d[\"Address\"] = prop.find(\"div\", {\"class\":\"property-address-info\"}).text.strip().replace(\"\\n\", \"\").replace(\"                        \",\", \")\n",
    "    \n",
    "    try:    \n",
    "        d[\"No. Beds\"] = prop.find(\"div\", {\"class\":\"property-beds\"}).find(\"strong\").text.strip()\n",
    "    except: \n",
    "        d[\"No. Beds\"] = None\n",
    "    \n",
    "    try: \n",
    "        d[\"No. Baths\"] = prop.find(\"div\", {\"class\":\"property-baths\"}).find(\"strong\").text.strip()\n",
    "    except:\n",
    "        d[\"No. Baths\"] = None\n",
    "    \n",
    "    try:\n",
    "        d[\"No. Half Baths\"] = prop.find(\"div\", {\"class\":\"property-half-baths\"}).find(\"strong\").text.strip()\n",
    "    except:\n",
    "        d[\"No. Half Baths\"] = None\n",
    "    \n",
    "    try: \n",
    "        d[\"Sqft\"] = prop.find(\"div\", {\"class\":\"property-sqft\"}).find(\"strong\").text.strip()\n",
    "    except:\n",
    "        d[\"Sqft\"] = \"Not Available\"\n",
    "    \n",
    "    properties_list.append(d)\n",
    "    "
   ]
  },
  {
   "cell_type": "code",
   "execution_count": 108,
   "metadata": {},
   "outputs": [],
   "source": [
    "propertiesdf = pd.DataFrame(properties_list)"
   ]
  },
  {
   "cell_type": "code",
   "execution_count": 110,
   "metadata": {},
   "outputs": [
    {
     "data": {
      "text/html": [
       "<div>\n",
       "<style scoped>\n",
       "    .dataframe tbody tr th:only-of-type {\n",
       "        vertical-align: middle;\n",
       "    }\n",
       "\n",
       "    .dataframe tbody tr th {\n",
       "        vertical-align: top;\n",
       "    }\n",
       "\n",
       "    .dataframe thead th {\n",
       "        text-align: right;\n",
       "    }\n",
       "</style>\n",
       "<table border=\"1\" class=\"dataframe\">\n",
       "  <thead>\n",
       "    <tr style=\"text-align: right;\">\n",
       "      <th></th>\n",
       "      <th>Price</th>\n",
       "      <th>Address</th>\n",
       "      <th>No. Beds</th>\n",
       "      <th>No. Baths</th>\n",
       "      <th>No. Half Baths</th>\n",
       "      <th>Sqft</th>\n",
       "    </tr>\n",
       "  </thead>\n",
       "  <tbody>\n",
       "    <tr>\n",
       "      <td>0</td>\n",
       "      <td>$799,999</td>\n",
       "      <td>139 P Street NW A, Washington DC 20001</td>\n",
       "      <td>2</td>\n",
       "      <td>2</td>\n",
       "      <td>1</td>\n",
       "      <td>1,710</td>\n",
       "    </tr>\n",
       "    <tr>\n",
       "      <td>1</td>\n",
       "      <td>$2,750,000</td>\n",
       "      <td>3210 Volta Place NW, Washington DC 20007</td>\n",
       "      <td>3</td>\n",
       "      <td>3</td>\n",
       "      <td>2</td>\n",
       "      <td>3,240</td>\n",
       "    </tr>\n",
       "    <tr>\n",
       "      <td>2</td>\n",
       "      <td>$1,799,000</td>\n",
       "      <td>13 4th Street NE, Washington DC 20002</td>\n",
       "      <td>4</td>\n",
       "      <td>3</td>\n",
       "      <td>1</td>\n",
       "      <td>2,528</td>\n",
       "    </tr>\n",
       "    <tr>\n",
       "      <td>3</td>\n",
       "      <td>$1,695,000</td>\n",
       "      <td>1307 35th Street NW, Washington DC 20007</td>\n",
       "      <td>2</td>\n",
       "      <td>3</td>\n",
       "      <td>None</td>\n",
       "      <td>2,340</td>\n",
       "    </tr>\n",
       "    <tr>\n",
       "      <td>4</td>\n",
       "      <td>$749,500</td>\n",
       "      <td>1901 Wyoming Avenue NW Unit 21, Washington DC ...</td>\n",
       "      <td>1</td>\n",
       "      <td>1</td>\n",
       "      <td>None</td>\n",
       "      <td>1,200</td>\n",
       "    </tr>\n",
       "    <tr>\n",
       "      <td>5</td>\n",
       "      <td>$900,000</td>\n",
       "      <td>1012 Hamlin Street NE, Washington DC 20017</td>\n",
       "      <td>4</td>\n",
       "      <td>22</td>\n",
       "      <td>1</td>\n",
       "      <td>1,683</td>\n",
       "    </tr>\n",
       "    <tr>\n",
       "      <td>6</td>\n",
       "      <td>$1,999,000</td>\n",
       "      <td>1155 23rd Street NW Unit PH3P, Washington DC 2...</td>\n",
       "      <td>2</td>\n",
       "      <td>2</td>\n",
       "      <td>1</td>\n",
       "      <td>2,150</td>\n",
       "    </tr>\n",
       "    <tr>\n",
       "      <td>7</td>\n",
       "      <td>$1,599,000</td>\n",
       "      <td>3760 Benton Street NW, Washington DC 20007</td>\n",
       "      <td>4</td>\n",
       "      <td>4</td>\n",
       "      <td>1</td>\n",
       "      <td>2,962</td>\n",
       "    </tr>\n",
       "    <tr>\n",
       "      <td>8</td>\n",
       "      <td>$945,000</td>\n",
       "      <td>1715 Kenyon Street NW Unit 1, Washington DC 20010</td>\n",
       "      <td>2</td>\n",
       "      <td>2</td>\n",
       "      <td>1</td>\n",
       "      <td>1,900</td>\n",
       "    </tr>\n",
       "    <tr>\n",
       "      <td>9</td>\n",
       "      <td>$899,900</td>\n",
       "      <td>4204 3rd Street NW, Washington DC 20011</td>\n",
       "      <td>4</td>\n",
       "      <td>3</td>\n",
       "      <td>1</td>\n",
       "      <td>2,052</td>\n",
       "    </tr>\n",
       "  </tbody>\n",
       "</table>\n",
       "</div>"
      ],
      "text/plain": [
       "        Price                                            Address No. Beds  \\\n",
       "0    $799,999             139 P Street NW A, Washington DC 20001        2   \n",
       "1  $2,750,000           3210 Volta Place NW, Washington DC 20007        3   \n",
       "2  $1,799,000              13 4th Street NE, Washington DC 20002        4   \n",
       "3  $1,695,000           1307 35th Street NW, Washington DC 20007        2   \n",
       "4    $749,500  1901 Wyoming Avenue NW Unit 21, Washington DC ...        1   \n",
       "5    $900,000         1012 Hamlin Street NE, Washington DC 20017        4   \n",
       "6  $1,999,000  1155 23rd Street NW Unit PH3P, Washington DC 2...        2   \n",
       "7  $1,599,000         3760 Benton Street NW, Washington DC 20007        4   \n",
       "8    $945,000  1715 Kenyon Street NW Unit 1, Washington DC 20010        2   \n",
       "9    $899,900            4204 3rd Street NW, Washington DC 20011        4   \n",
       "\n",
       "  No. Baths No. Half Baths   Sqft  \n",
       "0         2              1  1,710  \n",
       "1         3              2  3,240  \n",
       "2         3              1  2,528  \n",
       "3         3           None  2,340  \n",
       "4         1           None  1,200  \n",
       "5        22              1  1,683  \n",
       "6         2              1  2,150  \n",
       "7         4              1  2,962  \n",
       "8         2              1  1,900  \n",
       "9         3              1  2,052  "
      ]
     },
     "execution_count": 110,
     "metadata": {},
     "output_type": "execute_result"
    }
   ],
   "source": [
    "propertiesdf.head(10)"
   ]
  },
  {
   "cell_type": "code",
   "execution_count": null,
   "metadata": {},
   "outputs": [],
   "source": []
  }
 ],
 "metadata": {
  "kernelspec": {
   "display_name": "Python 3",
   "language": "python",
   "name": "python3"
  },
  "language_info": {
   "codemirror_mode": {
    "name": "ipython",
    "version": 3
   },
   "file_extension": ".py",
   "mimetype": "text/x-python",
   "name": "python",
   "nbconvert_exporter": "python",
   "pygments_lexer": "ipython3",
   "version": "3.7.4"
  }
 },
 "nbformat": 4,
 "nbformat_minor": 2
}
